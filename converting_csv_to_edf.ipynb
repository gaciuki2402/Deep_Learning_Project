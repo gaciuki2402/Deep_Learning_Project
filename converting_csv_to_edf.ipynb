{
  "nbformat": 4,
  "nbformat_minor": 0,
  "metadata": {
    "colab": {
      "provenance": [],
      "authorship_tag": "ABX9TyMW4Due6kClPeZgs4imrxGI",
      "include_colab_link": true
    },
    "kernelspec": {
      "name": "python3",
      "display_name": "Python 3"
    },
    "language_info": {
      "name": "python"
    }
  },
  "cells": [
    {
      "cell_type": "markdown",
      "metadata": {
        "id": "view-in-github",
        "colab_type": "text"
      },
      "source": [
        "<a href=\"https://colab.research.google.com/github/gaciuki2402/Deep_Learning_Project/blob/main/converting_csv_to_edf.ipynb\" target=\"_parent\"><img src=\"https://colab.research.google.com/assets/colab-badge.svg\" alt=\"Open In Colab\"/></a>"
      ]
    },
    {
      "cell_type": "code",
      "execution_count": 27,
      "metadata": {
        "id": "Irxo5v2hZNnF"
      },
      "outputs": [],
      "source": [
        "pip install mne"
      ]
    },
    {
      "cell_type": "code",
      "source": [
        "pip install pyedflib"
      ],
      "metadata": {
        "colab": {
          "base_uri": "https://localhost:8080/"
        },
        "id": "HubHmN0kbRS4",
        "outputId": "970cd99f-625f-413c-98aa-c0f85195cb3c"
      },
      "execution_count": 28,
      "outputs": [
        {
          "output_type": "stream",
          "name": "stdout",
          "text": [
            "Requirement already satisfied: pyedflib in /usr/local/lib/python3.10/dist-packages (0.1.36)\n",
            "Requirement already satisfied: numpy>=1.9.1 in /usr/local/lib/python3.10/dist-packages (from pyedflib) (1.25.2)\n"
          ]
        }
      ]
    },
    {
      "cell_type": "code",
      "source": [
        "from google.colab import drive\n",
        "drive.mount(\"/content/drive\")\n",
        "import pandas as pd\n",
        "import mne\n"
      ],
      "metadata": {
        "colab": {
          "base_uri": "https://localhost:8080/"
        },
        "id": "1KpsiCU1ZljA",
        "outputId": "492dac44-6303-4935-d774-100b393e23cd"
      },
      "execution_count": 29,
      "outputs": [
        {
          "output_type": "stream",
          "name": "stdout",
          "text": [
            "Drive already mounted at /content/drive; to attempt to forcibly remount, call drive.mount(\"/content/drive\", force_remount=True).\n"
          ]
        }
      ]
    },
    {
      "cell_type": "code",
      "source": [
        "import pyedflib\n",
        "from pyedflib import highlevel\n",
        "import mne\n",
        "from sklearn.model_selection import train_test_split\n",
        "from sklearn.metrics import classification_report, confusion_matrix\n",
        "from sklearn.utils import class_weight\n",
        "from sklearn.preprocessing import StandardScaler\n",
        "import tensorflow as tf\n",
        "from tensorflow import keras\n",
        "from tensorflow.keras import layers, models\n",
        "\n",
        "# Load your CSV data (replace 'your_data.csv' with your actual CSV file)\n",
        "df = pd.read_csv('/content/drive/MyDrive/CSV/train.csv')\n",
        "signal_data = np.zeros(len(df))\n",
        "\n",
        "edf_file = '/content/drive/MyDrive/CSV/output.edf'\n",
        "signal_headers = [{'label': 'Signal_Label', 'dimension': 'uV', 'sample_rate': 1000.0, 'physical_max': 1.0, 'physical_min': -1.0, 'digital_max': 32767, 'digital_min': -32768, 'transducer': 'None', 'prefilter': 'None'}]\n",
        "# Write data to the EDF file\n",
        "highlevel.write_edf(edf_file, [signal_data], signal_headers, header)\n",
        "\n",
        "# Verify that the EDF file is created successfully\n",
        "print(f\"EDF file '{edf_file}' created.\")"
      ],
      "metadata": {
        "colab": {
          "base_uri": "https://localhost:8080/"
        },
        "id": "-m1v0EyHjV3n",
        "outputId": "9bc6beae-9d78-499e-ef22-28be1218dc60"
      },
      "execution_count": 33,
      "outputs": [
        {
          "output_type": "stream",
          "name": "stdout",
          "text": [
            "EDF file '/content/drive/MyDrive/CSV/output.edf' created.\n"
          ]
        }
      ]
    },
    {
      "cell_type": "code",
      "source": [
        "# loading EEG dataset\n",
        "raw = mne.io.read_raw_edf(\"/content/drive/MyDrive/CSV/output.edf\", preload=True)\n"
      ],
      "metadata": {
        "colab": {
          "base_uri": "https://localhost:8080/"
        },
        "id": "YoYsh5genuiE",
        "outputId": "d48367db-a0ed-4e18-edb7-153b6e4cea70"
      },
      "execution_count": 35,
      "outputs": [
        {
          "output_type": "stream",
          "name": "stdout",
          "text": [
            "Extracting EDF parameters from /content/drive/MyDrive/CSV/output.edf...\n",
            "EDF file detected\n",
            "Setting channel info structure...\n",
            "Creating raw.info structure...\n",
            "Reading 0 ... 106999  =      0.000 ...   106.999 secs...\n"
          ]
        }
      ]
    },
    {
      "cell_type": "code",
      "source": [],
      "metadata": {
        "id": "PkzjZXEGnurB"
      },
      "execution_count": null,
      "outputs": []
    },
    {
      "cell_type": "code",
      "source": [],
      "metadata": {
        "id": "BVL6BO0Ca0DB"
      },
      "execution_count": null,
      "outputs": []
    }
  ]
}