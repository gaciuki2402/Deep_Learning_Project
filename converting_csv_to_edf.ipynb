{
  "nbformat": 4,
  "nbformat_minor": 0,
  "metadata": {
    "colab": {
      "provenance": [],
      "authorship_tag": "ABX9TyMxF3jStwx5/BUKJ5c5dJPL",
      "include_colab_link": true
    },
    "kernelspec": {
      "name": "python3",
      "display_name": "Python 3"
    },
    "language_info": {
      "name": "python"
    }
  },
  "cells": [
    {
      "cell_type": "markdown",
      "metadata": {
        "id": "view-in-github",
        "colab_type": "text"
      },
      "source": [
        "<a href=\"https://colab.research.google.com/github/gaciuki2402/Deep_Learning_Project/blob/main/converting_csv_to_edf.ipynb\" target=\"_parent\"><img src=\"https://colab.research.google.com/assets/colab-badge.svg\" alt=\"Open In Colab\"/></a>"
      ]
    },
    {
      "cell_type": "code",
      "execution_count": null,
      "metadata": {
        "id": "Irxo5v2hZNnF"
      },
      "outputs": [],
      "source": [
        "pip install mne"
      ]
    },
    {
      "cell_type": "code",
      "source": [
        "pip install pyedflib"
      ],
      "metadata": {
        "id": "HubHmN0kbRS4"
      },
      "execution_count": null,
      "outputs": []
    },
    {
      "cell_type": "code",
      "source": [
        "from google.colab import drive\n",
        "drive.mount(\"/content/drive\")\n",
        "import pandas as pd\n",
        "import mne\n"
      ],
      "metadata": {
        "colab": {
          "base_uri": "https://localhost:8080/"
        },
        "id": "1KpsiCU1ZljA",
        "outputId": "f5ed5239-df46-4d4e-c330-b10d82198116"
      },
      "execution_count": 21,
      "outputs": [
        {
          "output_type": "stream",
          "name": "stdout",
          "text": [
            "Drive already mounted at /content/drive; to attempt to forcibly remount, call drive.mount(\"/content/drive\", force_remount=True).\n"
          ]
        }
      ]
    },
    {
      "cell_type": "code",
      "source": [
        "import pandas as pd\n",
        "import pyedflib\n",
        "from pyedflib import highlevel\n",
        "import numpy as np\n",
        "\n",
        "\n",
        "# Load your CSV data (replace 'your_data.csv' with your actual CSV file)\n",
        "df = pd.read_csv('/content/drive/MyDrive/CSV/train.csv')\n",
        "signal_data = np.zeros(len(df))\n",
        "\n",
        "edf_file = 'output.edf'\n",
        "signal_headers = [{'label': 'Signal_Label', 'dimension': 'uV', 'sample_rate': 1000.0, 'physical_max': 1.0, 'physical_min': -1.0, 'digital_max': 32767, 'digital_min': -32768, 'transducer': 'None', 'prefilter': 'None'}]\n",
        "# Write data to the EDF file\n",
        "highlevel.write_edf(edf_file, [signal_data], signal_headers, header)\n",
        "\n",
        "# Verify that the EDF file is created successfully\n",
        "print(f\"EDF file '{edf_file}' created.\")"
      ],
      "metadata": {
        "colab": {
          "base_uri": "https://localhost:8080/"
        },
        "id": "-m1v0EyHjV3n",
        "outputId": "eeabc36e-0188-4bd4-8c45-894a83396bed"
      },
      "execution_count": 25,
      "outputs": [
        {
          "output_type": "stream",
          "name": "stdout",
          "text": [
            "EDF file 'output.edf' created.\n"
          ]
        }
      ]
    },
    {
      "cell_type": "code",
      "source": [],
      "metadata": {
        "id": "BVL6BO0Ca0DB"
      },
      "execution_count": null,
      "outputs": []
    }
  ]
}